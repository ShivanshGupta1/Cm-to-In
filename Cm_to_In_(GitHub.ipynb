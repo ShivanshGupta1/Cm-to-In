{
  "nbformat": 4,
  "nbformat_minor": 0,
  "metadata": {
    "colab": {
      "name": "Cm to In (GitHub.ipynb",
      "provenance": [],
      "authorship_tag": "ABX9TyPh/gINfRpTpReYnmKUiWLw",
      "include_colab_link": true
    },
    "kernelspec": {
      "name": "python3",
      "display_name": "Python 3"
    }
  },
  "cells": [
    {
      "cell_type": "markdown",
      "metadata": {
        "id": "view-in-github",
        "colab_type": "text"
      },
      "source": [
        "<a href=\"https://colab.research.google.com/github/ShivanshGupta1/Cm-to-In/blob/main/Cm_to_In_(GitHub.ipynb\" target=\"_parent\"><img src=\"https://colab.research.google.com/assets/colab-badge.svg\" alt=\"Open In Colab\"/></a>"
      ]
    },
    {
      "cell_type": "code",
      "metadata": {
        "id": "-yaLNtN7x3p5"
      },
      "source": [
        "a = int(input('Put your length in cm: '))\n",
        "if a<0:\n",
        "  print(\"Your number is invaild\")\n",
        "elif a>=0:\n",
        "  print(a/2.54,\"in\")"
      ],
      "execution_count": null,
      "outputs": []
    }
  ]
}